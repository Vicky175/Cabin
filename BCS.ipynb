{
 "cells": [
  {
   "cell_type": "code",
   "execution_count": 8,
   "metadata": {},
   "outputs": [],
   "source": [
    "import numpy as np\n",
    "import scipy.sparse\n",
    "import math\n",
    "from scipy.sparse import  find\n",
    "\n",
    "def BinEm(X):\n",
    "    '''Catogrical to binray conversion'''\n",
    "    I = find(X)\n",
    "    X_new = np.zeros(X.shape, dtype = np.uint32)\n",
    "    for i in range(len(I[0])):\n",
    "        if np.random.rand() < 0.5:\n",
    "             X_new[I[0][i], I[1][i]] = 1\n",
    "        else:\n",
    "             X_new[I[0][i], I[1][i]] = 0\n",
    "    return scipy.sparse.csr_matrix(X_new)\n",
    "\n",
    "def BCS(X, k):\n",
    "    '''Sketch generation using BCS: This method takes a binary matrix X of size nxd, and generates its sketch matrix of size nxk, where k<<d. \n",
    "        Parameters:\n",
    "           X  is a sparse array (NumPy array or can be scipy sparse matrix) of shape (n, d),\n",
    "              where n is the number of samples and d is feature dimension\n",
    "           k is the  reduced dimension value (must be a positive integer)\n",
    "            \n",
    "        Returns:\n",
    "          Sketch matrix of X of size nxk-- scipy sparse csr_matrix of shape (n, k)\n",
    "    '''\n",
    "    d = X.shape[1]\n",
    "    \n",
    "    random_map = np.array([], int)\n",
    "    M = np.arange(k)\n",
    "    for i in range(d//k):\n",
    "        np.random.shuffle(M)\n",
    "        random_map = np.concatenate((random_map, M))\n",
    "    np.random.shuffle(M)\n",
    "    random_map = np.concatenate((random_map, M[0:d%k]))\n",
    "    np.random.shuffle(random_map)\n",
    "\n",
    "    new_X = np.zeros((X.shape[0], k))\n",
    "    for i in range(k):\n",
    "        index = np.where(random_map == i)[0]\n",
    "        new_X[:,i] = np.sum(X[:,index].A, axis = 1) % 2\n",
    "    return scipy.sparse.csr_matrix(new_X)\n",
    "\n",
    "def BCS_Ham(a,b):\n",
    "    '''This method takes two low-dimensional (sketch) binary vectors a and b obtained from the BCS method and estimate the hamming distance between their full-dimensional version.\n",
    "        Parameters:\n",
    "            binary vectors a, b \n",
    "        Returns:\n",
    "            An estimate of the Hamming distance between  full-dimensional vectors corresponding to a and b\n",
    "\n",
    "    '''\n",
    "    BCS_Ham_Est = (a-b).nnz\n",
    "    return  BCS_Ham_Est\n",
    "\n",
    "def Hamming_distance(a,b):\n",
    "    'Funtion to calculate hamming distance between array a and b'\n",
    "    ham = 0\n",
    "    for i in range(a.shape[1]):\n",
    "        if a[:,i] != b[:,i]:\n",
    "            ham += 1\n",
    "    return ham\n"
   ]
  },
  {
   "cell_type": "code",
   "execution_count": 9,
   "metadata": {},
   "outputs": [
    {
     "name": "stdout",
     "output_type": "stream",
     "text": [
      "Shape of actual matrix: (100, 102660)\n",
      "Shape of binary embeding matrix: (100, 102660)\n",
      "Shape of BCS Sketch:  (100, 1000)\n"
     ]
    }
   ],
   "source": [
    "#Example\n",
    "X = scipy.sparse.load_npz('Sample.npz')\n",
    "print('Shape of actual matrix:', X.shape)\n",
    "\n",
    "X_Bin = BinEm(X) #catogrical to binary conversion\n",
    "print('Shape of binary embeding matrix:', X_cat.shape)\n",
    "\n",
    "new_X = BCS(X_Bin, 1000)\n",
    "print('Shape of BCS Sketch: ', new_X.shape)"
   ]
  },
  {
   "cell_type": "code",
   "execution_count": 10,
   "metadata": {},
   "outputs": [
    {
     "name": "stdout",
     "output_type": "stream",
     "text": [
      "Hamming distance between a and b is : 225\n",
      "Hamming estimate of a and b  using BCS sketch is : 212\n"
     ]
    }
   ],
   "source": [
    "#hamming estimate\n",
    "a = X[0,:]\n",
    "b = X[1,:]\n",
    "#hamming distance between a and b taken from actual matrix\n",
    "print('Hamming distance between a and b is :', Hamming_distance(a,b))\n",
    "\n",
    "a_new = new_X[0,:]\n",
    "b_new = new_X[1,:]\n",
    "# a_new and b_new corresponds to compressed sketch of a and b\n",
    "print('Hamming estimate of a and b  using BCS sketch is :', 2*BCS_Ham(a_new, b_new))"
   ]
  },
  {
   "cell_type": "code",
   "execution_count": null,
   "metadata": {},
   "outputs": [],
   "source": []
  }
 ],
 "metadata": {
  "kernelspec": {
   "display_name": "Python 3",
   "language": "python",
   "name": "python3"
  },
  "language_info": {
   "codemirror_mode": {
    "name": "ipython",
    "version": 3
   },
   "file_extension": ".py",
   "mimetype": "text/x-python",
   "name": "python",
   "nbconvert_exporter": "python",
   "pygments_lexer": "ipython3",
   "version": "3.7.3"
  }
 },
 "nbformat": 4,
 "nbformat_minor": 4
}
